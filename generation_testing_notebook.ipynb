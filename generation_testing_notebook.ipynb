{
 "cells": [
  {
   "cell_type": "code",
   "execution_count": 174,
   "metadata": {},
   "outputs": [],
   "source": [
    "import TextualData.TextualData\n",
    "import LSTM.lstm as lstm\n",
    "import numpy as np\n",
    "import torch.nn as nn\n",
    "import torch.optim as optim\n",
    "import torch\n",
    "from torch.autograd import Variable\n",
    "import utils\n",
    "import spacy\n",
    "import matplotlib.pyplot as plt\n",
    "%matplotlib inline"
   ]
  },
  {
   "cell_type": "code",
   "execution_count": 33,
   "metadata": {},
   "outputs": [
    {
     "data": {
      "text/plain": [
       "<module 'utils' from 'utils.pyc'>"
      ]
     },
     "execution_count": 33,
     "metadata": {},
     "output_type": "execute_result"
    }
   ],
   "source": [
    "reload(utils)"
   ]
  },
  {
   "cell_type": "code",
   "execution_count": 34,
   "metadata": {
    "collapsed": true
   },
   "outputs": [],
   "source": [
    "hidden_size = 256\n",
    "batch_size = 50\n",
    "string_len = 50\n",
    "valid_batches = 200\n",
    "n_layers = 2\n",
    "starting_lr = .025\n",
    "lr_decay_factor = 2.\n",
    "pos = 1\n",
    "#Train the network to predict the charachter appearing after stride - Leave = 1\n",
    "stride = 1\n",
    "gpu = False"
   ]
  },
  {
   "cell_type": "code",
   "execution_count": 35,
   "metadata": {},
   "outputs": [],
   "source": [
    "reload(TextualData.TextualData)\n",
    "text = TextualData.TextualData.TextualData(path='data/full_shak_eng.txt', lower=True)"
   ]
  },
  {
   "cell_type": "code",
   "execution_count": 36,
   "metadata": {
    "scrolled": true
   },
   "outputs": [
    {
     "name": "stdout",
     "output_type": "stream",
     "text": [
      "Computing POS...\n",
      "Created POS data. Train_pos len: 1288818 Valid_pos len: 429606\n",
      "POS computed\n",
      "alpha len 53 pos len 16 product 848\n"
     ]
    }
   ],
   "source": [
    "print 'Computing POS...'\n",
    "text.compute_pos()\n",
    "print 'POS computed'\n",
    "print 'alpha len', text.alpha_len, 'pos len', text.pos_len, 'product', text.alpha_len*text.pos_len"
   ]
  },
  {
   "cell_type": "code",
   "execution_count": 37,
   "metadata": {},
   "outputs": [],
   "source": [
    "if pos == 1:\n",
    "    rnn = lstm.LSTMmodel(hidden_s=hidden_size, input_s=text.alpha_len*text.pos_len, n_layers=n_layers, gpu=gpu)\n",
    "else:\n",
    "    rnn = lstm.LSTMmodel(hidden_s=hidden_size, input_s=text.alpha_len, n_layers=n_layers, gpu=gpu)\n",
    "\n",
    "rnn.load_state_dict(torch.load('models/LSTM_nlay_2_hidsize_256_pos_1_itr_1000000_loss_1.66.md'))"
   ]
  },
  {
   "cell_type": "code",
   "execution_count": 145,
   "metadata": {},
   "outputs": [
    {
     "name": "stdout",
     "output_type": "stream",
     "text": [
      "2 3.5640777795\n",
      "3 2.55087808474\n",
      "4 2.08009809231\n",
      "5 1.66544910367\n",
      "6 1.6340525616\n",
      "7 1.57615743446\n",
      "8 1.46843901415\n",
      "9 1.49062300372\n"
     ]
    }
   ],
   "source": [
    "distribs2=[]\n",
    "for my_len in range(2,10):\n",
    "    right_pos=np.zeros(text.alpha_len)\n",
    "    for rep in range(1000):\n",
    "        bc=text.get_test_batch(string_len=my_len,batch_size=1,\n",
    "                                start=np.random.randint(len(text.test_text)-my_len), \n",
    "                                pos=pos)\n",
    "        tbatch=text.batch_to_text(bc)\n",
    "        posbatch=text.batch_to_pos(bc)\n",
    "        probs=rnn(bc[0][0])[-1].data.numpy()\n",
    "        next_ix=bc[0][-1][-1].data[0]\n",
    "        prob_by_char=np.array([sum(np.exp(fixed_char)) for fixed_char in np.transpose(probs.reshape(-1,text.alpha_len))])\n",
    "        trials = np.argsort(np.argsort(-1*prob_by_char))[next_ix%text.alpha_len]\n",
    "        right_pos[trials]+=1\n",
    "        #print trials, text.alphabet[next_ix%text.alpha_len], \n",
    "        #print text.alphabet[int(np.argsort(-1*prob_by_char)[0])]\n",
    "        #print '-'*6\n",
    "    right_pos=right_pos/sum(right_pos)\n",
    "    lowerb=sum((i+1)*(right_pos[i]-right_pos[i+1])*np.log2(i+1) for i in range(len(right_pos)-1))\n",
    "    distribs.append(right_pos)\n",
    "    print my_len,lowerb"
   ]
  },
  {
   "cell_type": "code",
   "execution_count": 147,
   "metadata": {},
   "outputs": [
    {
     "data": {
      "text/plain": [
       "[8.6760000000000019,\n",
       " 2.3340000000000005,\n",
       " 2.2989999999999995,\n",
       " 2.472,\n",
       " 2.4020000000000001,\n",
       " 2.3819999999999997,\n",
       " 2.1670000000000003,\n",
       " 2.0989999999999998,\n",
       " 2.1370000000000005,\n",
       " 2.1430000000000002,\n",
       " 7.984,\n",
       " 4.6740000000000013,\n",
       " 3.4920000000000004,\n",
       " 2.5570000000000004,\n",
       " 2.5250000000000004,\n",
       " 2.4449999999999998,\n",
       " 2.1230000000000002,\n",
       " 2.4120000000000008]"
      ]
     },
     "execution_count": 147,
     "metadata": {},
     "output_type": "execute_result"
    }
   ],
   "source": [
    "[sum([i*d[i] for i in range(len(d))]) for d in distribs]"
   ]
  },
  {
   "cell_type": "code",
   "execution_count": 141,
   "metadata": {},
   "outputs": [
    {
     "ename": "TypeError",
     "evalue": "generate_many_pos_while() takes at least 6 arguments (7 given)",
     "output_type": "error",
     "traceback": [
      "\u001b[0;31m---------------------------------------------------------------------------\u001b[0m",
      "\u001b[0;31mTypeError\u001b[0m                                 Traceback (most recent call last)",
      "\u001b[0;32m<ipython-input-141-6b5aecfa86d7>\u001b[0m in \u001b[0;36m<module>\u001b[0;34m()\u001b[0m\n\u001b[1;32m      3\u001b[0m \u001b[0minp\u001b[0m \u001b[0;34m=\u001b[0m \u001b[0mtest_b\u001b[0m\u001b[0;34m[\u001b[0m\u001b[0;36m0\u001b[0m\u001b[0;34m]\u001b[0m\u001b[0;34m[\u001b[0m\u001b[0;36m0\u001b[0m\u001b[0;34m]\u001b[0m\u001b[0;34m\u001b[0m\u001b[0m\n\u001b[1;32m      4\u001b[0m new_text, new_pos = utils.generate_many_pos_while(rnn, text, input_tensor=inp, pos_type = 1, \n\u001b[0;32m----> 5\u001b[0;31m                                              verbose=False, gen_len=2, temp=.55)\n\u001b[0m\u001b[1;32m      6\u001b[0m \u001b[0;32mprint\u001b[0m \u001b[0;34m'/\\\\'\u001b[0m \u001b[0;34m*\u001b[0m \u001b[0;36m20\u001b[0m\u001b[0;34m\u001b[0m\u001b[0m\n\u001b[1;32m      7\u001b[0m \u001b[0;32mprint\u001b[0m \u001b[0;34m''\u001b[0m\u001b[0;34m.\u001b[0m\u001b[0mjoin\u001b[0m\u001b[0;34m(\u001b[0m\u001b[0mnew_text\u001b[0m\u001b[0;34m)\u001b[0m\u001b[0;34m\u001b[0m\u001b[0m\n",
      "\u001b[0;31mTypeError\u001b[0m: generate_many_pos_while() takes at least 6 arguments (7 given)"
     ]
    }
   ],
   "source": [
    "reload(utils)\n",
    "test_b = text.get_test_batch(120, 1, 0, 1, 1)\n",
    "inp = test_b[0][0]\n",
    "new_text, new_pos = utils.generate_many_pos_while(rnn, text, input_tensor=inp, pos_type = 1, \n",
    "                                             verbose=False, gen_len=2, temp=.55)\n",
    "print '/\\\\' * 20\n",
    "print ''.join(new_text)\n",
    "print '/\\\\' * 20"
   ]
  },
  {
   "cell_type": "code",
   "execution_count": 32,
   "metadata": {
    "collapsed": true
   },
   "outputs": [
    {
     "name": "stdout",
     "output_type": "stream",
     "text": [
      "ather NOUN\n",
      "wore VERB\n",
      "it, PUNCT\n",
      "and CCONJ\n",
      "your ADJ\n",
      "father NOUN\n",
      "endured VERB\n",
      "it. PUNCT\n",
      "the DET\n",
      "horn, PUNCT\n",
      "the DET\n",
      "horn, PUNCT\n",
      "the DET\n",
      "lustful ADJ\n",
      "horn NOUN\n",
      "is VERB\n",
      "not ADV\n",
      "to PART\n",
      "be VERB\n",
      "laughed VERB\n",
      "at ADP\n",
      "or CCONJ\n",
      "scorned. PUNCT\n",
      "\n",
      "###fliet ADJ\n",
      "mascemen NOUN\n",
      "and CCONJ\n",
      "only ADV\n",
      "for ADP\n",
      "me. PUNCT\n",
      "\n",
      "###macture\n",
      "who NOUN\n",
      "will VERB\n",
      "be VERB\n",
      "have VERB\n",
      "will VERB\n",
      "do VERB\n",
      "you PRON\n",
      "leave VERB\n",
      "him PRON\n",
      "to PART\n",
      "see VERB\n",
      "the DET\n",
      "man NOUN\n",
      "of ADP\n",
      "the DET\n",
      "day NOUN\n",
      "of ADP\n",
      "offers NOUN\n",
      "has VERB\n",
      "my ADJ\n",
      "lath NOUN\n",
      "or CCONJ\n",
      "the DET\n",
      "greater NOUN\n",
      "to ADP\n"
     ]
    }
   ],
   "source": [
    "temp = []\n",
    "for ix, c in enumerate(new_text):\n",
    "    if c != ' ':\n",
    "        temp.append(c)\n",
    "    else: \n",
    "        print ''.join(temp), new_pos[ix]\n",
    "\n",
    "        temp = []"
   ]
  },
  {
   "cell_type": "code",
   "execution_count": 153,
   "metadata": {},
   "outputs": [
    {
     "name": "stdout",
     "output_type": "stream",
     "text": [
      "too seriously\n",
      "[u'ADV', u'ADV', u'ADV', u'ADV', u'ADV', u'ADV', u'ADV', u'ADV', u'ADV', u'ADV', u'ADV', u'ADV', u'ADV']\n",
      "[1.9280306100845337, 1.7756609916687012, 1.942461609840393, 1.868754267692566, 1.891822099685669, 1.8797365427017212, 1.6931672096252441, 1.8532440662384033, 1.92258620262146, 1.8858128786087036, 1.8403526544570923, 1.646579623222351, 1.8416523933410645, 1.8358017206192017, 1.9378281831741333, 1.8698092699050903, 1.8223106861114502, 2.1560466289520264, 1.9318828582763672, 1.8234511613845825, 1.9802899360656738, 1.8920412063598633, 1.8598644733428955, 1.9601415395736694, 2.0839359760284424, 1.7928606271743774, 1.9083248376846313, 1.8305580615997314, 1.9485087394714355, 1.8641397953033447]\n",
      "/\\/\\/\\/\\/\\/\\/\\/\\/\\/\\/\\/\\/\\/\\/\\/\\/\\/\\/\\/\\\n",
      "'re meeting for dinner tonight. \n",
      "###bassanio\n",
      "don't worry, i'll be there. \n",
      "###gratiano\n",
      "you don't look well, antonio. you're taking things too seriously. people with too much invested in the world alway\n",
      "/\\/\\/\\/\\/\\/\\/\\/\\/\\/\\/\\/\\/\\/\\/\\/\\/\\/\\/\\/\\\n",
      "/\\/\\/\\/\\/\\/\\/\\/\\/\\/\\/\\/\\/\\/\\/\\/\\/\\/\\/\\/\\\n",
      "'re meeting for dinner tonight. \n",
      "###bassanio\n",
      "don't worry, i'll be there. \n",
      "###gratiano\n",
      "you don't look well, antonio. you're taking things at  **** . people with too much invested in the world alway\n",
      "/\\/\\/\\/\\/\\/\\/\\/\\/\\/\\/\\/\\/\\/\\/\\/\\/\\/\\/\\/\\\n"
     ]
    }
   ],
   "source": [
    "sample_pos = text.full_pos[3200:3400]\n",
    "sample_text = text.full_text[3200:3400]\n",
    "tks = []\n",
    "tmp = []\n",
    "for ix, p in enumerate(sample_pos):\n",
    "    if p == sample_pos[max(ix-1, 0)]:\n",
    "        tmp.append(ix)\n",
    "    else:\n",
    "        tks.append(tmp)\n",
    "        tmp = [ix]\n",
    "ok_tks = [tk for tk in tks[20:] if not(sample_pos[tk[0]] in [3,8])]\n",
    "np.random.shuffle(ok_tks)\n",
    "print ''.join([sample_text[p] for p in ok_tks[0]])\n",
    "print [text.ix_to_pos[sample_pos[p]] for p in ok_tks[0]]\n",
    "new_text, new_pos = utils.generate_many_pos_while(rnn, text, \n",
    "                                                  text.string_to_tensor_pos(sample_text[:ok_tks[0][0]], \n",
    "                                                                            sample_pos[:ok_tks[0][0]]\n",
    "                                                                           ).squeeze(), \n",
    "                                                  pos_type = sample_pos[ok_tks[0][0]], \n",
    "                                                  follow_text = sample_text[ok_tks[0][-1]+1:], \n",
    "                                                  follow_pos = sample_pos[ok_tks[0][-1]+1:], \n",
    "                                                  temp = .95, gen_len=30)\n",
    "print '/\\\\' * 20\n",
    "print ''.join(sample_text)\n",
    "print '/\\\\' * 20\n",
    "print '/\\\\' * 20\n",
    "print ''.join(new_text), '*'*4, sample_text[ok_tks[0][-1]+1:]\n",
    "print '/\\\\' * 20"
   ]
  },
  {
   "cell_type": "code",
   "execution_count": 225,
   "metadata": {
    "collapsed": true
   },
   "outputs": [],
   "source": [
    "nlp = spacy.load('en_core_web_lg')"
   ]
  },
  {
   "cell_type": "code",
   "execution_count": 226,
   "metadata": {},
   "outputs": [],
   "source": [
    "doc=nlp(u'The cat is on the table.')"
   ]
  },
  {
   "cell_type": "code",
   "execution_count": 227,
   "metadata": {
    "collapsed": true
   },
   "outputs": [],
   "source": [
    "mt=[[tk1.similarity(tk) for tk in doc] for tk1 in doc]"
   ]
  },
  {
   "cell_type": "code",
   "execution_count": 232,
   "metadata": {},
   "outputs": [
    {
     "ename": "TypeError",
     "evalue": "an integer is required",
     "output_type": "error",
     "traceback": [
      "\u001b[0;31m---------------------------------------------------------------------------\u001b[0m",
      "\u001b[0;31mTypeError\u001b[0m                                 Traceback (most recent call last)",
      "\u001b[0;32m<ipython-input-232-7f521139c377>\u001b[0m in \u001b[0;36m<module>\u001b[0;34m()\u001b[0m\n\u001b[0;32m----> 1\u001b[0;31m \u001b[0;34m[\u001b[0m\u001b[0mdoc\u001b[0m\u001b[0;34m[\u001b[0m\u001b[0;36m2\u001b[0m\u001b[0;34m]\u001b[0m\u001b[0;34m.\u001b[0m\u001b[0msimilarity\u001b[0m\u001b[0;34m(\u001b[0m\u001b[0mw\u001b[0m\u001b[0;34m)\u001b[0m \u001b[0;32mfor\u001b[0m \u001b[0mw\u001b[0m \u001b[0;32min\u001b[0m \u001b[0mdoc\u001b[0m\u001b[0;34m.\u001b[0m\u001b[0mvocab\u001b[0m\u001b[0;34m[\u001b[0m\u001b[0;34m:\u001b[0m\u001b[0;36m100\u001b[0m\u001b[0;34m]\u001b[0m\u001b[0;34m]\u001b[0m\u001b[0;34m\u001b[0m\u001b[0m\n\u001b[0m",
      "\u001b[0;32mvocab.pyx\u001b[0m in \u001b[0;36mspacy.vocab.Vocab.__getitem__\u001b[0;34m()\u001b[0m\n",
      "\u001b[0;31mTypeError\u001b[0m: an integer is required"
     ]
    }
   ],
   "source": [
    "[doc[2].similarity(w) for w in doc.vocab[:100]]"
   ]
  },
  {
   "cell_type": "code",
   "execution_count": 214,
   "metadata": {},
   "outputs": [
    {
     "data": {
      "image/png": "[encoded data removed]",
      "text/plain": [
       "<matplotlib.figure.Figure at 0x121ddd5d0>"
      ]
     },
     "metadata": {},
     "output_type": "display_data"
    }
   ],
   "source": [
    "fig = plt.figure()\n",
    "ax=fig.add_subplot(111)\n",
    "cax=ax.matshow(mt)\n",
    "ax.set_xticklabels(range(8))\n",
    "ax.set_yticklabels(range(8))\n",
    "plt.show()"
   ]
  },
  {
   "cell_type": "code",
   "execution_count": 212,
   "metadata": {},
   "outputs": [
    {
     "name": "stdout",
     "output_type": "stream",
     "text": [
      "The\n",
      "----------\n",
      "cat\n",
      "----------\n",
      "is\n",
      "----------\n",
      "on\n",
      "----------\n",
      "the\n",
      "----------\n",
      "table\n",
      "----------\n",
      ".\n",
      "----------\n"
     ]
    }
   ],
   "source": [
    "for d in doc:\n",
    "    print d\n",
    "    print '-'*10"
   ]
  },
  {
   "cell_type": "code",
   "execution_count": 230,
   "metadata": {},
   "outputs": [
    {
     "data": {
      "text/plain": [
       "[u'Anf',\n",
       " u'ansd',\n",
       " u'REFERED',\n",
       " u'\\u2014',\n",
       " u'a/k/a',\n",
       " u'Withe',\n",
       " u'withe',\n",
       " u'COINCIDENTALLY',\n",
       " u'Coincidentally',\n",
       " u'aformentioned']"
      ]
     },
     "execution_count": 230,
     "metadata": {},
     "output_type": "execute_result"
    }
   ],
   "source": [
    "def most_similar(word):\n",
    "     by_similarity = sorted(word.vocab, key=lambda w: word.similarity(w), reverse=False)\n",
    "     return [w.orth_ for w in by_similarity[:10]]\n",
    " \n",
    "most_similar(nlp.vocab[u'dog'])"
   ]
  },
  {
   "cell_type": "code",
   "execution_count": null,
   "metadata": {
    "collapsed": true
   },
   "outputs": [],
   "source": []
  }
 ],
 "metadata": {
  "kernelspec": {
   "display_name": "Python 2",
   "language": "python",
   "name": "python2"
  },
  "language_info": {
   "codemirror_mode": {
    "name": "ipython",
    "version": 2
   },
   "file_extension": ".py",
   "mimetype": "text/x-python",
   "name": "python",
   "nbconvert_exporter": "python",
   "pygments_lexer": "ipython2",
   "version": "2.7.13"
  }
 },
 "nbformat": 4,
 "nbformat_minor": 2
}
