{
 "cells": [
  {
   "cell_type": "code",
   "execution_count": 1,
   "metadata": {},
   "outputs": [],
   "source": [
    "import TextualData.TextualData\n",
    "import LSTM.lstm as lstm\n",
    "import numpy as np\n",
    "import torch.nn as nn\n",
    "import torch.optim as optim\n",
    "import torch\n",
    "from torch.autograd import Variable"
   ]
  },
  {
   "cell_type": "code",
   "execution_count": 2,
   "metadata": {
    "collapsed": true
   },
   "outputs": [],
   "source": [
    "reload(TextualData.TextualData)\n",
    "text = TextualData.TextualData.TextualData(path='data/full_shak_eng.txt')"
   ]
  },
  {
   "cell_type": "code",
   "execution_count": 12,
   "metadata": {
    "collapsed": true
   },
   "outputs": [],
   "source": [
    "def generate(model, inp='#', temp = 0.3, my_len = 20):\n",
    "    row = inp\n",
    "    tensor_string = text.string_to_tensor(row)\n",
    "    hidden = model.init_hidden()\n",
    "    for i in range(len(tensor_string)):\n",
    "        output, hidden = model.forward_known_hidden(tensor_string[i], hidden)\n",
    "    row += text.alphabet[torch.multinomial(output.data.view(-1).div(temp).exp(),1)[0]]\n",
    "    for i in range(my_len):\n",
    "        output, hidden = model.forward_known_hidden(text.string_to_tensor(row)[-1], hidden)\n",
    "        row += text.alphabet[torch.multinomial(output.data.view(-1).div(temp).exp(),1)[0]]\n",
    "    return row"
   ]
  },
  {
   "cell_type": "code",
   "execution_count": 4,
   "metadata": {},
   "outputs": [
    {
     "name": "stdout",
     "output_type": "stream",
     "text": [
      " this agony by becoming a Christian and marrying you.\n"
     ]
    }
   ],
   "source": [
    "print text.random_string(batch_len=50)"
   ]
  },
  {
   "cell_type": "code",
   "execution_count": 5,
   "metadata": {
    "collapsed": true
   },
   "outputs": [],
   "source": [
    "hidden_size = 128\n",
    "#rnn = LSTMmodel(alpha_len, hidden_size)\n",
    "rnn = lstm.LSTMmodel(hidden_s=hidden_size, input_s=text.alpha_len)\n",
    "rnn.optimizer = optim.Adam(rnn.parameters(), lr=0.002)\n",
    "minibatch = 50\n",
    "batch_len = 50"
   ]
  },
  {
   "cell_type": "code",
   "execution_count": 31,
   "metadata": {},
   "outputs": [
    {
     "data": {
      "text/plain": [
       "Variable containing:\n",
       " 3.0639\n",
       "[torch.FloatTensor of size 1]"
      ]
     },
     "execution_count": 31,
     "metadata": {},
     "output_type": "execute_result"
    }
   ],
   "source": [
    "bc = text.get_batch(40,1,1)\n",
    "np.mean([rnn.loss_func(rnn(inp), tar) for inp,tar in bc])"
   ]
  },
  {
   "cell_type": "code",
   "execution_count": 42,
   "metadata": {},
   "outputs": [
    {
     "name": "stdout",
     "output_type": "stream",
     "text": [
      "2.41096679846\n",
      "#YEADUESTE\n",
      "Teet if men\n",
      "2.35051716646\n",
      "#e bull ware ind hhoss\n",
      "2.40857746045\n",
      "##GHMICTERE D TONS\n",
      "N a\n",
      "2.42709379276\n",
      "#Hhee au thave deme th\n",
      "2.36248174032\n",
      "###GANE\n",
      "The \n",
      "###GENDAR\n",
      "2.31315772454\n",
      "####LENA ASSED\n",
      "Tatel I\n",
      "2.3377559336\n",
      "#re at fave and as of \n",
      "2.35208675226\n",
      "###GESRERH INNILLOGIN\n",
      "\n",
      "2.37171466827\n",
      "#TOS\n",
      "The dite. he, wem\n",
      "2.35298824469\n",
      "###SILDACU \n",
      "###NEM\n",
      "I i\n"
     ]
    }
   ],
   "source": [
    "print_every = 150\n",
    "tot_loss=0\n",
    "for i in range(1,1501):\n",
    "    my_loss = rnn.train(text.get_batch(20,1,1))\n",
    "    tot_loss += my_loss.data[0]\n",
    "    if i%print_every == 0:\n",
    "        print tot_loss/print_every\n",
    "        tot_loss = 0\n",
    "        print generate(rnn, temp=.7)\n",
    "    "
   ]
  },
  {
   "cell_type": "code",
   "execution_count": 41,
   "metadata": {},
   "outputs": [
    {
     "name": "stdout",
     "output_type": "stream",
     "text": [
      "#NDO\n",
      "I yor pe tham you\n"
     ]
    }
   ],
   "source": [
    "print generate(rnn, temp=.7)"
   ]
  },
  {
   "cell_type": "code",
   "execution_count": null,
   "metadata": {
    "collapsed": true
   },
   "outputs": [],
   "source": []
  }
 ],
 "metadata": {
  "kernelspec": {
   "display_name": "Python 2",
   "language": "python",
   "name": "python2"
  },
  "language_info": {
   "codemirror_mode": {
    "name": "ipython",
    "version": 2
   },
   "file_extension": ".py",
   "mimetype": "text/x-python",
   "name": "python",
   "nbconvert_exporter": "python",
   "pygments_lexer": "ipython2",
   "version": "2.7.13"
  }
 },
 "nbformat": 4,
 "nbformat_minor": 2
}
